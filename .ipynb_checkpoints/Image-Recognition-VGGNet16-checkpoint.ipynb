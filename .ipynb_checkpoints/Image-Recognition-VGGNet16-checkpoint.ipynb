{
 "cells": [
  {
   "cell_type": "code",
   "execution_count": 1,
   "id": "92d98e4e",
   "metadata": {},
   "outputs": [],
   "source": [
    "from keras.applications import VGG16"
   ]
  },
  {
   "cell_type": "code",
   "execution_count": 2,
   "id": "96c8ed39",
   "metadata": {},
   "outputs": [],
   "source": [
    "from keras.applications import imagenet_utils"
   ]
  },
  {
   "cell_type": "code",
   "execution_count": 3,
   "id": "3bd88131",
   "metadata": {},
   "outputs": [],
   "source": [
    "from keras.preprocessing.image import img_to_array, load_img"
   ]
  },
  {
   "cell_type": "code",
   "execution_count": 5,
   "id": "bb7eda1c",
   "metadata": {},
   "outputs": [],
   "source": [
    "import numpy as np\n",
    "import cv2"
   ]
  },
  {
   "cell_type": "code",
   "execution_count": 8,
   "id": "6983bbea",
   "metadata": {},
   "outputs": [],
   "source": [
    "# Loading image to predict\n",
    "img_path = 'images/tree_frog_01.jpeg'\n",
    "\n",
    "img = load_img(img_path)"
   ]
  },
  {
   "cell_type": "code",
   "execution_count": 9,
   "id": "bcad319a",
   "metadata": {},
   "outputs": [],
   "source": [
    "# resize image to 224x224 square shape\n",
    "img = img.resize((224,224))"
   ]
  },
  {
   "cell_type": "code",
   "execution_count": 12,
   "id": "3afa6ee8",
   "metadata": {},
   "outputs": [],
   "source": [
    "# Convert the image to array \n",
    "img_array = img_to_array(img)"
   ]
  },
  {
   "cell_type": "code",
   "execution_count": 13,
   "id": "c6bbbb93",
   "metadata": {},
   "outputs": [],
   "source": [
    "# Convert the image into a 4 dimensional Tensor\n",
    "# Convert from (height, width, channels) to (batchsize, height, width, channel)\n",
    "img_array = np.expand_dims(img_array, axis=0) "
   ]
  },
  {
   "cell_type": "code",
   "execution_count": 14,
   "id": "c8bc929a",
   "metadata": {},
   "outputs": [],
   "source": [
    "# Preprocess the input image array\n",
    "img_array = imagenet_utils.preprocess_input(img_array)"
   ]
  },
  {
   "cell_type": "code",
   "execution_count": 15,
   "id": "80db5034",
   "metadata": {},
   "outputs": [
    {
     "name": "stdout",
     "output_type": "stream",
     "text": [
      "Downloading data from https://storage.googleapis.com/tensorflow/keras-applications/vgg16/vgg16_weights_tf_dim_ordering_tf_kernels.h5\n",
      "553467904/553467096 [==============================] - 901s 2us/step\n"
     ]
    }
   ],
   "source": [
    "# Load the model from internet/computer\n",
    "pretrained_model = VGG16(weights=\"imagenet\")"
   ]
  },
  {
   "cell_type": "code",
   "execution_count": 17,
   "id": "3094fc48",
   "metadata": {},
   "outputs": [],
   "source": [
    "# Predict using predict method\n",
    "prediction = pretrained_model.predict(img_array)"
   ]
  },
  {
   "cell_type": "code",
   "execution_count": 18,
   "id": "af02f03c",
   "metadata": {},
   "outputs": [
    {
     "name": "stdout",
     "output_type": "stream",
     "text": [
      "Downloading data from https://storage.googleapis.com/download.tensorflow.org/data/imagenet_class_index.json\n",
      "40960/35363 [==================================] - 0s 2us/step\n"
     ]
    }
   ],
   "source": [
    "# Decode the prediction\n",
    "actual_prediction = imagenet_utils.decode_predictions(prediction)"
   ]
  },
  {
   "cell_type": "code",
   "execution_count": 19,
   "id": "7bfc6ad2",
   "metadata": {},
   "outputs": [
    {
     "name": "stdout",
     "output_type": "stream",
     "text": [
      "[[('n01644373', 'tree_frog', 0.9903412), ('n01644900', 'tailed_frog', 0.008768423), ('n02169497', 'leaf_beetle', 0.00024436277), ('n02165456', 'ladybug', 0.00017574911), ('n02259212', 'leafhopper', 0.00015858888)]]\n"
     ]
    }
   ],
   "source": [
    "print(actual_prediction)"
   ]
  },
  {
   "cell_type": "code",
   "execution_count": 30,
   "id": "1790d349",
   "metadata": {},
   "outputs": [
    {
     "name": "stdout",
     "output_type": "stream",
     "text": [
      "Predicted object is [tree_frog] with accuracy of [99.03%].\n"
     ]
    }
   ],
   "source": [
    "print(f\"Predicted object is [{actual_prediction[0][0][1]}] with accuracy of [{np.round(actual_prediction[0][0][2]*100,2)}%].\")"
   ]
  },
  {
   "cell_type": "code",
   "execution_count": 31,
   "id": "b2257a4f",
   "metadata": {},
   "outputs": [],
   "source": [
    "# Display image and predict text over it\n",
    "disp_img = cv2.imread(img_path)"
   ]
  },
  {
   "cell_type": "code",
   "execution_count": null,
   "id": "7370d8ea",
   "metadata": {},
   "outputs": [],
   "source": [
    "cv2.putText(disp_img, actual_prediction[0][0][1], (20,20), cv2.FONT_HERSHEY_COMPLEX)\n",
    "\n",
    "# Show the image\n",
    "cv2.imshow(\"Prediction\", disp_img)"
   ]
  }
 ],
 "metadata": {
  "kernelspec": {
   "display_name": "Python 3",
   "language": "python",
   "name": "python3"
  },
  "language_info": {
   "codemirror_mode": {
    "name": "ipython",
    "version": 3
   },
   "file_extension": ".py",
   "mimetype": "text/x-python",
   "name": "python",
   "nbconvert_exporter": "python",
   "pygments_lexer": "ipython3",
   "version": "3.8.8"
  }
 },
 "nbformat": 4,
 "nbformat_minor": 5
}
